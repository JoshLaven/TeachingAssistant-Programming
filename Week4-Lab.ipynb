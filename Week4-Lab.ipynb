{
 "cells": [
  {
   "cell_type": "markdown",
   "metadata": {},
   "source": [
    "# Lab 4"
   ]
  },
  {
   "cell_type": "markdown",
   "metadata": {},
   "source": [
    "### Some stuff moving forward"
   ]
  },
  {
   "cell_type": "markdown",
   "metadata": {},
   "source": [
    "##### Writing Good Code"
   ]
  },
  {
   "cell_type": "markdown",
   "metadata": {},
   "source": [
    "Now that you know how to use functions and loops, you should almost ever be copying and pasting anything"
   ]
  },
  {
   "cell_type": "code",
   "execution_count": null,
   "metadata": {},
   "outputs": [],
   "source": [
    "#Do this\n",
    "words = ['dog','cat','radar','python','bob']\n",
    "palindromes = []\n",
    "for i in words:\n",
    "    if i == i[::-1]:\n",
    "        palindromes.append(i)\n",
    "        \n",
    "palindromes"
   ]
  },
  {
   "cell_type": "code",
   "execution_count": null,
   "metadata": {},
   "outputs": [],
   "source": [
    "#Not this\n",
    "palindrome_list = []\n",
    "\n",
    "word1= 'radar'\n",
    "if word1 ==word1[::-1]:\n",
    "    palindrome_list.append(word1)\n",
    "\n",
    "word2='dog'\n",
    "if word2 ==word2[::-1]:\n",
    "    palindrome_list.append(word2)\n",
    "\n",
    "word3='bob'\n",
    "if word3 ==word3[::-1]:\n",
    "    palindrome_list.append(word3)\n",
    "\n",
    "palindrome_list"
   ]
  },
  {
   "cell_type": "markdown",
   "metadata": {},
   "source": [
    "### Classes"
   ]
  },
  {
   "cell_type": "markdown",
   "metadata": {},
   "source": [
    "$Classes$ are blueprints- the definition of a type of thing, $objects$ are instances of that type"
   ]
  },
  {
   "cell_type": "code",
   "execution_count": null,
   "metadata": {},
   "outputs": [],
   "source": [
    "core= ['AP','Economics','Stats']"
   ]
  },
  {
   "cell_type": "code",
   "execution_count": null,
   "metadata": {},
   "outputs": [],
   "source": [
    "class HarrisClass():\n",
    "    def __init__(self,name,professor):\n",
    "        self.name = name\n",
    "        self.professor= professor\n",
    "    def is_it_core(self):\n",
    "        if self.name in core:\n",
    "            print('This is a core class')\n",
    "        else:\n",
    "            print('This is an elective')\n",
    "        \n",
    "    "
   ]
  },
  {
   "cell_type": "code",
   "execution_count": null,
   "metadata": {},
   "outputs": [],
   "source": [
    "programming = HarrisClass('Intro to PPP','Levy')\n",
    "macro = HarrisClass('Economics','Roginsky')"
   ]
  },
  {
   "cell_type": "code",
   "execution_count": null,
   "metadata": {},
   "outputs": [],
   "source": [
    "programming.name"
   ]
  },
  {
   "cell_type": "code",
   "execution_count": null,
   "metadata": {},
   "outputs": [],
   "source": [
    "programming.is_it_core()"
   ]
  },
  {
   "cell_type": "code",
   "execution_count": null,
   "metadata": {},
   "outputs": [],
   "source": [
    "macro.is_it_core()"
   ]
  },
  {
   "cell_type": "markdown",
   "metadata": {},
   "source": [
    "#### Using Classes within Classes"
   ]
  },
  {
   "cell_type": "code",
   "execution_count": null,
   "metadata": {},
   "outputs": [],
   "source": [
    "import math"
   ]
  },
  {
   "cell_type": "code",
   "execution_count": null,
   "metadata": {},
   "outputs": [],
   "source": [
    "# Create a class where the instances are locations on a coordinate plane\n",
    "class Grid_Location():\n",
    "    def __init__(self, xcoord, ycoord):\n",
    "        self.xcoord = xcoord\n",
    "        self.ycoord = ycoord\n",
    "    def distance_to(self,other):\n",
    "        d = math.sqrt(((self.xcoord - other.xcoord)**2)+ ((self.ycoord - other.ycoord)**2))\n",
    "        return d"
   ]
  },
  {
   "cell_type": "code",
   "execution_count": null,
   "metadata": {},
   "outputs": [],
   "source": [
    "#Create points- which are *instances* of our Grid_location\n",
    "PointA = Grid_Location(3,3)\n",
    "PointB = Grid_Location(9,5)\n",
    "PointC= Grid_Location(-10,7)"
   ]
  },
  {
   "cell_type": "code",
   "execution_count": null,
   "metadata": {},
   "outputs": [],
   "source": [
    "#Can see how far apart the points are. This works because they are both instances of the class Grid_Location.\n",
    "## The 'distance_to' method takes an argument other than self. This other argument is also an \n",
    "## instance of Grid_location, so it also has an xcoord and a ycoord\n",
    "PointA.distance_to(PointB)"
   ]
  },
  {
   "cell_type": "code",
   "execution_count": null,
   "metadata": {},
   "outputs": [],
   "source": [
    "PointC.distance_to(PointB)"
   ]
  },
  {
   "cell_type": "code",
   "execution_count": null,
   "metadata": {},
   "outputs": [],
   "source": [
    "#Create a class called Building\n",
    "## It has an attribute called 'location' that uses our previously built class Grid_Location\n",
    "## We can imagine the UChicago campus as a grid and get the distances between buildings\n",
    "class Building():\n",
    "    def __init__(self,name, xcoord, ycoord):\n",
    "        self.name = name\n",
    "        self.location = Grid_Location(xcoord,ycoord)\n",
    "    def how_far_to(self,other):\n",
    "        dist = self.location.distance_to(other.location)\n",
    "        return dist\n",
    "    \n",
    "    "
   ]
  },
  {
   "cell_type": "code",
   "execution_count": null,
   "metadata": {},
   "outputs": [],
   "source": [
    "keller = Building('Keller Center',1,-5)\n",
    "reg = Building('Regenstein Library',-1,0)"
   ]
  },
  {
   "cell_type": "code",
   "execution_count": null,
   "metadata": {},
   "outputs": [],
   "source": [
    "#We can not define a method to use 'distance_to' method from Grid_Location\n",
    "keller.how_far_to(reg)"
   ]
  },
  {
   "cell_type": "code",
   "execution_count": null,
   "metadata": {},
   "outputs": [],
   "source": []
  }
 ],
 "metadata": {
  "kernelspec": {
   "display_name": "Python 3",
   "language": "python",
   "name": "python3"
  },
  "language_info": {
   "codemirror_mode": {
    "name": "ipython",
    "version": 3
   },
   "file_extension": ".py",
   "mimetype": "text/x-python",
   "name": "python",
   "nbconvert_exporter": "python",
   "pygments_lexer": "ipython3",
   "version": "3.7.0"
  }
 },
 "nbformat": 4,
 "nbformat_minor": 2
}
