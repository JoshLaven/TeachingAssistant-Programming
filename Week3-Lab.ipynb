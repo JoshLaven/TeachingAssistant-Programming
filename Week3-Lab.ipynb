{
 "cells": [
  {
   "cell_type": "markdown",
   "metadata": {},
   "source": [
    "# Lab - Week 3"
   ]
  },
  {
   "cell_type": "markdown",
   "metadata": {},
   "source": [
    "## Functions"
   ]
  },
  {
   "cell_type": "markdown",
   "metadata": {},
   "source": [
    "##### Functions take an input and return an output"
   ]
  },
  {
   "cell_type": "markdown",
   "metadata": {},
   "source": [
    "In Algebra:<br>\n",
    "$f(x) = 2x +2$<br>\n",
    "$f(10) = 22$<br>\n",
    "$f(100) = 202$"
   ]
  },
  {
   "cell_type": "markdown",
   "metadata": {},
   "source": [
    "In Python:"
   ]
  },
  {
   "cell_type": "code",
   "execution_count": null,
   "metadata": {},
   "outputs": [],
   "source": [
    "def f(x):\n",
    "    return 2*x + 2"
   ]
  },
  {
   "cell_type": "code",
   "execution_count": null,
   "metadata": {},
   "outputs": [],
   "source": [
    "print('f(10)=',f(10))\n",
    "print('f(100)=',f(100))"
   ]
  },
  {
   "cell_type": "markdown",
   "metadata": {},
   "source": [
    "##### Argument names can be anything, they just have to match what's inside the function\n"
   ]
  },
  {
   "cell_type": "code",
   "execution_count": null,
   "metadata": {},
   "outputs": [],
   "source": [
    "def new_func(banana):\n",
    "    chair = 2 + banana\n",
    "    return chair"
   ]
  },
  {
   "cell_type": "code",
   "execution_count": null,
   "metadata": {},
   "outputs": [],
   "source": [
    "new_func(100)"
   ]
  },
  {
   "cell_type": "markdown",
   "metadata": {},
   "source": [
    "##### Local vs. Global Variables"
   ]
  },
  {
   "cell_type": "markdown",
   "metadata": {},
   "source": [
    "Local Variable - Can be accessed only in a certain part of the code <br>\n",
    "Global Variable - Can be accessed throughout the program "
   ]
  },
  {
   "cell_type": "code",
   "execution_count": null,
   "metadata": {},
   "outputs": [],
   "source": [
    "def new_func(banana, balloon):\n",
    "    chair = 2 + banana + balloon\n",
    "    return chair"
   ]
  },
  {
   "cell_type": "code",
   "execution_count": null,
   "metadata": {},
   "outputs": [],
   "source": [
    "new_func(10,10)"
   ]
  },
  {
   "cell_type": "code",
   "execution_count": null,
   "metadata": {},
   "outputs": [],
   "source": [
    "#Error\n",
    "##banana is a local variable - it cannot called outside of 'new_func' \n",
    "banana"
   ]
  },
  {
   "cell_type": "markdown",
   "metadata": {},
   "source": [
    "Now let's add a global variable"
   ]
  },
  {
   "cell_type": "code",
   "execution_count": null,
   "metadata": {},
   "outputs": [],
   "source": [
    "globe_var = 10\n",
    "def newer_func(banana,balloon):\n",
    "    chair = 2 + banana + balloon + globe_var\n",
    "    return chair\n",
    "    "
   ]
  },
  {
   "cell_type": "code",
   "execution_count": null,
   "metadata": {},
   "outputs": [],
   "source": [
    "newer_func(10,10)"
   ]
  },
  {
   "cell_type": "code",
   "execution_count": null,
   "metadata": {},
   "outputs": [],
   "source": [
    "globe_var"
   ]
  },
  {
   "cell_type": "code",
   "execution_count": null,
   "metadata": {},
   "outputs": [],
   "source": []
  },
  {
   "cell_type": "markdown",
   "metadata": {},
   "source": [
    "###### 'Return'\n",
    "\n",
    "'Return' ends the function and calls a value. <br>\n",
    "You should almost $always$ have your function return something"
   ]
  },
  {
   "cell_type": "code",
   "execution_count": null,
   "metadata": {},
   "outputs": [],
   "source": [
    "#No return\n",
    "def no_return(x):\n",
    "    x+2"
   ]
  },
  {
   "cell_type": "raw",
   "metadata": {},
   "source": [
    "no_return(5)"
   ]
  },
  {
   "cell_type": "code",
   "execution_count": null,
   "metadata": {},
   "outputs": [],
   "source": [
    "no_return"
   ]
  },
  {
   "cell_type": "code",
   "execution_count": null,
   "metadata": {},
   "outputs": [],
   "source": [
    "def with_return(x):\n",
    "    return x+2"
   ]
  },
  {
   "cell_type": "code",
   "execution_count": null,
   "metadata": {},
   "outputs": [],
   "source": [
    "with_return(5)"
   ]
  },
  {
   "cell_type": "markdown",
   "metadata": {},
   "source": [
    "##### Assignment"
   ]
  },
  {
   "cell_type": "markdown",
   "metadata": {},
   "source": [
    "Function output can be assigned"
   ]
  },
  {
   "cell_type": "code",
   "execution_count": null,
   "metadata": {},
   "outputs": [],
   "source": [
    "f_of_ten = f(10)"
   ]
  },
  {
   "cell_type": "code",
   "execution_count": null,
   "metadata": {},
   "outputs": [],
   "source": [
    "f_of_ten"
   ]
  },
  {
   "cell_type": "code",
   "execution_count": null,
   "metadata": {},
   "outputs": [],
   "source": [
    "f_of_ten+100"
   ]
  },
  {
   "cell_type": "markdown",
   "metadata": {},
   "source": [
    "And functions can be renamed to other functions"
   ]
  },
  {
   "cell_type": "code",
   "execution_count": null,
   "metadata": {},
   "outputs": [],
   "source": [
    "y_value = f"
   ]
  },
  {
   "cell_type": "code",
   "execution_count": null,
   "metadata": {},
   "outputs": [],
   "source": [
    "y_value(100)"
   ]
  },
  {
   "cell_type": "markdown",
   "metadata": {},
   "source": [
    "##### Uses for Functions"
   ]
  },
  {
   "cell_type": "markdown",
   "metadata": {},
   "source": [
    "##### Can be run an iterable object through a function"
   ]
  },
  {
   "cell_type": "code",
   "execution_count": null,
   "metadata": {},
   "outputs": [],
   "source": [
    "#Original function from beginning of notebook\n",
    "def f(x):\n",
    "    return 2*x + 2"
   ]
  },
  {
   "cell_type": "code",
   "execution_count": null,
   "metadata": {},
   "outputs": [],
   "source": [
    "x_list = [1,3,4,18.95,150]\n",
    "y_list=[]\n",
    "for x in x_list:\n",
    "    y_list.append(f(x))"
   ]
  },
  {
   "cell_type": "code",
   "execution_count": null,
   "metadata": {},
   "outputs": [],
   "source": [
    "y_list"
   ]
  },
  {
   "cell_type": "markdown",
   "metadata": {},
   "source": [
    "##### Can pass other Python objects as arguments"
   ]
  },
  {
   "cell_type": "code",
   "execution_count": null,
   "metadata": {},
   "outputs": [],
   "source": [
    "#Fahrenheit high temperatures for the next 5 days in different cities:\n",
    "\n",
    "chicago_temps = [65,49,65,48,48]\n",
    "phoenix_temps = [86,84,93,99,100]\n",
    "sf_temps = [59,62,67,67,70]\n",
    "\n",
    "\n",
    "def far_to_cels(temperature_list):\n",
    "    celsius_list=[]\n",
    "    for temp in temperature_list:\n",
    "        celsius_temp = (temp-32)*(5/9)\n",
    "        celsius_list.append(celsius_temp)\n",
    "    return celsius_list\n",
    "        \n",
    "    "
   ]
  },
  {
   "cell_type": "code",
   "execution_count": null,
   "metadata": {
    "scrolled": true
   },
   "outputs": [],
   "source": [
    "chicago_temps_celsius= far_to_cels(chicago_temps)\n",
    "chicago_temps_celsius\n"
   ]
  },
  {
   "cell_type": "markdown",
   "metadata": {},
   "source": [
    "##### Can embed functions within functions"
   ]
  },
  {
   "cell_type": "code",
   "execution_count": null,
   "metadata": {},
   "outputs": [],
   "source": [
    "def cels_to_kelvin(t):\n",
    "    kelvin_list = []\n",
    "    for temp in far_to_cels(t): #far_to_cels returns list of celsius temps\n",
    "        kelvin = temp + 273.15\n",
    "        kelvin_list.append(kelvin)\n",
    "    return kelvin_list\n",
    "        "
   ]
  },
  {
   "cell_type": "code",
   "execution_count": null,
   "metadata": {},
   "outputs": [],
   "source": [
    "cels_to_kelvin(chicago_temps)"
   ]
  },
  {
   "cell_type": "markdown",
   "metadata": {},
   "source": [
    "Now let's create a function that can go from Fahrenheit to Celsius OR Kelvin dependent on a keyword argument"
   ]
  },
  {
   "cell_type": "code",
   "execution_count": null,
   "metadata": {},
   "outputs": [],
   "source": [
    "#When Kelvin = False, this code will return the list converted to Celsius\n",
    "\n",
    "#When Kelvin = True, this will run the list through the far_to_cels function (converting it to Celsius),\n",
    "#then return the list converted to Kelvin\n",
    "\n",
    "def farehnheit_converter(temperature_list, Kelvin = False):\n",
    "    if not Kelvin:\n",
    "        celsius_list=[]\n",
    "        for temp in temperature_list:\n",
    "            celsius_temp = (temp-32)*(5/9)\n",
    "            celsius_list.append(celsius_temp)\n",
    "        return celsius_list\n",
    "    else:\n",
    "        kelvin_list = []\n",
    "        for temp in far_to_cels(temperature_list): #far_to_cels returns list of celsius temps\n",
    "            kelvin = temp + 273.15\n",
    "            kelvin_list.append(kelvin)\n",
    "        return kelvin_list\n"
   ]
  },
  {
   "cell_type": "code",
   "execution_count": null,
   "metadata": {},
   "outputs": [],
   "source": [
    "celsius_temps = farehnheit_converter(chicago_temps,False)\n",
    "celsius_temps"
   ]
  },
  {
   "cell_type": "code",
   "execution_count": null,
   "metadata": {},
   "outputs": [],
   "source": [
    "kelvin_temps = farehnheit_converter(chicago_temps,True)\n",
    "kelvin_temps"
   ]
  },
  {
   "cell_type": "markdown",
   "metadata": {},
   "source": [
    "##### Organization"
   ]
  },
  {
   "cell_type": "markdown",
   "metadata": {},
   "source": [
    "Even if you won't need an argument, helpful to organize code into functions\n",
    "\n",
    "It's often helpful when loading data or saving output. You'll come across examples of this as we move forward! \n",
    "\n",
    "\n"
   ]
  }
 ],
 "metadata": {
  "kernelspec": {
   "display_name": "Python 3",
   "language": "python",
   "name": "python3"
  },
  "language_info": {
   "codemirror_mode": {
    "name": "ipython",
    "version": 3
   },
   "file_extension": ".py",
   "mimetype": "text/x-python",
   "name": "python",
   "nbconvert_exporter": "python",
   "pygments_lexer": "ipython3",
   "version": "3.7.0"
  }
 },
 "nbformat": 4,
 "nbformat_minor": 2
}
